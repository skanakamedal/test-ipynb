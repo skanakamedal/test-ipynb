{
 "cells": [
  {
   "cell_type": "markdown",
   "metadata": {},
   "source": [
    "### 7. Testing the online endpoint\n",
    "\n",
    "- You can find endpoint in `Endpoints` tab of your Azure Machine Learning Studio.\n",
    "\n",
    "![](images/aml_endpoints.jpg)\n",
    "\n",
    "- Select your endpoint (below is a sample of successfully deployed endpoint)\n",
    "\n",
    "![](images/sample_endpoint.jpg)\n",
    "\n",
    "- Select the `Test` tab to test your model. Input data format is json as shown in below \n",
    "```json\n",
    "    {\n",
    "        \"inputs\": [\n",
    "            {\n",
    "                \"sentence1\":\"test 1 sentence 1\",\n",
    "                \"sentence2\":\"test 1 sentence 2\"\n",
    "            },\n",
    "            {\n",
    "                \"sentence1\":\"test 2 sentence 1\",\n",
    "                \"sentence2\":\"test 2 sentence 2\"\n",
    "            },\n",
    "            {\n",
    "                \"sentence1\":\"test 3 sentence 1\",\n",
    "                \"sentence2\":\"test 3 sentence 2\"\n",
    "            }\n",
    "        ]\n",
    "    }\n",
    "```\n",
    "- Input the json data and click on `Test` button to get predictions.\n",
    "\n",
    "![](images/sample_test_endpoint.jpg)\n",
    "\n",
    "- You can also test the endpoint via Code. The samples are provided in `Consume` tab.\n",
    "\n",
    "![](images/sample_consume_endpoint.jpg)"
   ]
  }
 ],
 "metadata": {
  "kernelspec": {
   "display_name": "Python 3.8.10 ('py38-amlft-venv': venv)",
   "language": "python",
   "name": "python3"
  },
  "language_info": {
   "codemirror_mode": {
    "name": "ipython",
    "version": 3
   },
   "file_extension": ".py",
   "mimetype": "text/x-python",
   "name": "python",
   "nbconvert_exporter": "python",
   "pygments_lexer": "ipython3",
   "version": "3.8.10"
  },
  "orig_nbformat": 4,
  "vscode": {
   "interpreter": {
    "hash": "d3c55bb8db53bc0e86a57701c0b5b8a4db09a137aa5f882f50d7d69918683271"
   }
  }
 },
 "nbformat": 4,
 "nbformat_minor": 2
}
